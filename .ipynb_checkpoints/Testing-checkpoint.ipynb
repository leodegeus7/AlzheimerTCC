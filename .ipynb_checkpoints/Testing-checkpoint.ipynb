{
 "cells": [
  {
   "cell_type": "code",
   "execution_count": 9,
   "metadata": {},
   "outputs": [],
   "source": [
    "from __future__ import print_function\n",
    "\n",
    "# keras imports\n",
    "from keras.applications.vgg16 import VGG16, preprocess_input\n",
    "from keras.applications.vgg19 import VGG19, preprocess_input\n",
    "from keras.applications.xception import Xception, preprocess_input\n",
    "from keras.applications.resnet50 import ResNet50, preprocess_input\n",
    "from keras.applications.inception_resnet_v2 import InceptionResNetV2, preprocess_input\n",
    "from keras.applications.mobilenet import MobileNet, preprocess_input\n",
    "from keras.applications.inception_v3 import InceptionV3, preprocess_input\n",
    "from keras.preprocessing import image as imagepre\n",
    "from keras.models import Model\n",
    "from keras.models import model_from_json\n",
    "from keras.layers import Input\n",
    "\n",
    "# other imports\n",
    "from sklearn.linear_model import LogisticRegression\n",
    "import numpy as np\n",
    "import os\n",
    "import json\n",
    "import pickle\n",
    "import cv2\n",
    "\n",
    "# load the user configs\n",
    "with open('conf/conf.json') as f:    \n",
    "\tconfig = json.load(f)\n",
    "\n",
    "# config variables\n",
    "model_name \t\t= config[\"model\"]\n",
    "weights \t\t= config[\"weights\"]\n",
    "include_top \t= config[\"include_top\"]\n",
    "train_path \t\t= config[\"train_path\"]\n",
    "test_path \t\t= config[\"test_path\"]\n",
    "features_path \t= config[\"features_path\"]\n",
    "labels_path \t= config[\"labels_path\"]\n",
    "test_size \t\t= config[\"test_size\"]\n",
    "results \t\t= config[\"results\"]\n",
    "model_path \t\t= config[\"model_path\"]\n",
    "seed \t\t\t= config[\"seed\"]\n",
    "classifier_path = config[\"classifier_path\"]\n",
    "\n",
    "# load the trained logistic regression classifier\n",
    "print (\"[INFO] loading the classifier...\")\n",
    "classifier = pickle.load(open(classifier_path, 'rb'))\n",
    "\n",
    "import os\n",
    "os.system(\"find . -name '.DS_Store' -type f -delete\")\n",
    "\n",
    "# pretrained models needed to perform feature extraction on test data too!\n",
    "if model_name == \"vgg16\":\n",
    "\tbase_model = VGG16(weights=weights)\n",
    "\tmodel = Model(input=base_model.input, output=base_model.get_layer('fc1').output)\n",
    "\timage_size = (224, 224)\n",
    "elif model_name == \"vgg19\":\n",
    "\tbase_model = VGG19(weights=weights)\n",
    "\tmodel = Model(input=base_model.input, output=base_model.get_layer('fc1').output)\n",
    "\timage_size = (224, 224)\n",
    "elif model_name == \"resnet50\":\n",
    "\tbase_model = ResNet50(weights=weights)\n",
    "\tmodel = Model(input=base_model.input, output=base_model.get_layer('flatten').output)\n",
    "\timage_size = (224, 224)\n",
    "elif model_name == \"inceptionv3\":\n",
    "\tbase_model = InceptionV3(include_top=include_top, weights=weights, input_tensor=Input(shape=(299,299,3)))\n",
    "\tmodel = Model(input=base_model.input, output=base_model.get_layer('batch_normalization_1').output)\n",
    "\timage_size = (299, 299)\n",
    "elif model_name == \"inceptionresnetv2\":\n",
    "\tbase_model = InceptionResNetV2(include_top=include_top, weights=weights, input_tensor=Input(shape=(299,299,3)))\n",
    "\tmodel = Model(input=base_model.input, output=base_model.get_layer('batch_normalization_1').output)\n",
    "\timage_size = (299, 299)\n",
    "elif model_name == \"mobilenet\":\n",
    "\tbase_model = MobileNet(include_top=include_top, weights=weights, input_tensor=Input(shape=(224,224,3)), input_shape=(224,224,3))\n",
    "\tmodel = Model(input=base_model.input, output=base_model.get_layer('batch_normalization_1').output)\n",
    "\timage_size = (224, 224)\n",
    "elif model_name == \"xception\":\n",
    "\tbase_model = Xception(weights=weights)\n",
    "\tmodel = Model(input=base_model.input, output=base_model.get_layer('avg_pool').output)\n",
    "\timage_size = (299, 299)\n",
    "else:\n",
    "\tbase_model = None\n",
    "\n",
    "# get all the train labels\n",
    "train_labels = os.listdir(train_path)\n",
    "\n",
    "# get all the test images paths\n",
    "test_images = os.listdir(test_path)"
   ]
  },
  {
   "cell_type": "code",
   "execution_count": 10,
   "metadata": {},
   "outputs": [
    {
     "name": "stdout",
     "output_type": "stream",
     "text": [
      "[INFO] loading the classifier...\n"
     ]
    },
    {
     "data": {
      "text/plain": [
       "0"
      ]
     },
     "execution_count": 10,
     "metadata": {},
     "output_type": "execute_result"
    }
   ],
   "source": [
    "print (\"[INFO] loading the classifier...\")\n",
    "classifier = pickle.load(open(classifier_path, 'rb'))\n",
    "\n",
    "import os\n",
    "os.system(\"find . -name '.DS_Store' -type f -delete\")"
   ]
  },
  {
   "cell_type": "code",
   "execution_count": 53,
   "metadata": {},
   "outputs": [],
   "source": [
    "import numpy as np\n",
    "import shutil\n",
    "import os\n",
    "import fnmatch\n",
    "from numpy import array as narray\n",
    "classes = [\"\" for x in range(0)]\n",
    "images = [\"\" for x in range(0)]\n",
    "fullnames = [\"\" for x in range(0)]\n",
    "import pandas as pd\n",
    "for path,dirs,files in os.walk('.'):\n",
    "    for f in fnmatch.filter(files,'*.jpg'):\n",
    "        fullname = os.path.abspath(os.path.join(path,f))\n",
    "        classOfImage = fullname.split(\"/\")[:-1][-1]\n",
    "        image = fullname.split(\"/\")[-1]\n",
    "        if fullname.split(\"/\")[-3] == \"test\":\n",
    "            images.append(image)\n",
    "            classes.append(classOfImage)\n",
    "            fullnames.append(fullname)\n",
    "\n",
    "data = pd.DataFrame(data={\"class\":classes,\"image\":images,\"fullname\":fullnames})"
   ]
  },
  {
   "cell_type": "code",
   "execution_count": 54,
   "metadata": {},
   "outputs": [
    {
     "ename": "NameError",
     "evalue": "name 'imagepre' is not defined",
     "output_type": "error",
     "traceback": [
      "\u001b[0;31m---------------------------------------------------------------------------\u001b[0m",
      "\u001b[0;31mNameError\u001b[0m                                 Traceback (most recent call last)",
      "\u001b[0;32m<ipython-input-54-825afcecbd00>\u001b[0m in \u001b[0;36m<module>\u001b[0;34m()\u001b[0m\n\u001b[1;32m      1\u001b[0m \u001b[0mpredicts\u001b[0m \u001b[0;34m=\u001b[0m \u001b[0;34m[\u001b[0m\u001b[0;34m\"\"\u001b[0m \u001b[0;32mfor\u001b[0m \u001b[0mx\u001b[0m \u001b[0;32min\u001b[0m \u001b[0mrange\u001b[0m\u001b[0;34m(\u001b[0m\u001b[0;36m0\u001b[0m\u001b[0;34m)\u001b[0m\u001b[0;34m]\u001b[0m\u001b[0;34m\u001b[0m\u001b[0m\n\u001b[1;32m      2\u001b[0m \u001b[0;32mfor\u001b[0m \u001b[0mimagep\u001b[0m \u001b[0;32min\u001b[0m \u001b[0mdata\u001b[0m\u001b[0;34m[\u001b[0m\u001b[0;34m\"fullname\"\u001b[0m\u001b[0;34m]\u001b[0m\u001b[0;34m:\u001b[0m\u001b[0;34m\u001b[0m\u001b[0m\n\u001b[0;32m----> 3\u001b[0;31m     \u001b[0mimg\u001b[0m                 \u001b[0;34m=\u001b[0m \u001b[0mimagepre\u001b[0m\u001b[0;34m.\u001b[0m\u001b[0mload_img\u001b[0m\u001b[0;34m(\u001b[0m\u001b[0mimagep\u001b[0m\u001b[0;34m,\u001b[0m \u001b[0mtarget_size\u001b[0m\u001b[0;34m=\u001b[0m\u001b[0mimage_size\u001b[0m\u001b[0;34m)\u001b[0m\u001b[0;34m\u001b[0m\u001b[0m\n\u001b[0m\u001b[1;32m      4\u001b[0m     \u001b[0mx\u001b[0m                   \u001b[0;34m=\u001b[0m \u001b[0mimagepre\u001b[0m\u001b[0;34m.\u001b[0m\u001b[0mimg_to_array\u001b[0m\u001b[0;34m(\u001b[0m\u001b[0mimg\u001b[0m\u001b[0;34m)\u001b[0m\u001b[0;34m\u001b[0m\u001b[0m\n\u001b[1;32m      5\u001b[0m     \u001b[0mx\u001b[0m                   \u001b[0;34m=\u001b[0m \u001b[0mnp\u001b[0m\u001b[0;34m.\u001b[0m\u001b[0mexpand_dims\u001b[0m\u001b[0;34m(\u001b[0m\u001b[0mx\u001b[0m\u001b[0;34m,\u001b[0m \u001b[0maxis\u001b[0m\u001b[0;34m=\u001b[0m\u001b[0;36m0\u001b[0m\u001b[0;34m)\u001b[0m\u001b[0;34m\u001b[0m\u001b[0m\n",
      "\u001b[0;31mNameError\u001b[0m: name 'imagepre' is not defined"
     ]
    }
   ],
   "source": [
    "predicts = [\"\" for x in range(0)]\n",
    "for imagep in data[\"fullname\"]:\n",
    "    img \t\t= imagepre.load_img(imagep, target_size=image_size)\n",
    "    x \t\t\t= imagepre.img_to_array(img)\n",
    "    x \t\t\t= np.expand_dims(x, axis=0)\n",
    "    x \t\t\t= preprocess_input(x)\n",
    "    feature \t= model.predict(x)\n",
    "    flat \t\t= feature.flatten()\n",
    "    flat \t\t= np.expand_dims(flat, axis=0)\n",
    "    preds \t\t= classifier.predict(flat)\n",
    "    prediction \t= train_labels[preds[0]]\n",
    "    predicts.append(prediction)"
   ]
  },
  {
   "cell_type": "code",
   "execution_count": null,
   "metadata": {},
   "outputs": [],
   "source": [
    "data[\"predicts\"] = predicts"
   ]
  },
  {
   "cell_type": "code",
   "execution_count": null,
   "metadata": {},
   "outputs": [],
   "source": [
    "data.to_csv(\"result.csv\")"
   ]
  },
  {
   "cell_type": "code",
   "execution_count": null,
   "metadata": {},
   "outputs": [],
   "source": [
    "result = pd.read_csv(\"result.csv\")\n",
    "result"
   ]
  },
  {
   "cell_type": "code",
   "execution_count": null,
   "metadata": {},
   "outputs": [],
   "source": [
    "final = result[\"class\"] == result[\"predicts\"]"
   ]
  },
  {
   "cell_type": "code",
   "execution_count": 66,
   "metadata": {},
   "outputs": [
    {
     "data": {
      "text/plain": [
       "0.9750990379173741"
      ]
     },
     "execution_count": 66,
     "metadata": {},
     "output_type": "execute_result"
    }
   ],
   "source": [
    "resultFinalValue = final.value_counts()[True]/len(final)\n",
    "print(resultFinalValue)"
   ]
  }
 ],
 "metadata": {
  "kernelspec": {
   "display_name": "Python 3",
   "language": "python",
   "name": "python3"
  },
  "language_info": {
   "codemirror_mode": {
    "name": "ipython",
    "version": 3
   },
   "file_extension": ".py",
   "mimetype": "text/x-python",
   "name": "python",
   "nbconvert_exporter": "python",
   "pygments_lexer": "ipython3",
   "version": "3.6.4"
  }
 },
 "nbformat": 4,
 "nbformat_minor": 2
}
