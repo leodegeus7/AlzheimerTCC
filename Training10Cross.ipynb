{
 "cells": [
  {
   "cell_type": "code",
   "execution_count": 3,
   "metadata": {},
   "outputs": [
    {
     "name": "stderr",
     "output_type": "stream",
     "text": [
      "/Users/leodegeus/anaconda3/lib/python3.6/site-packages/h5py/__init__.py:36: FutureWarning: Conversion of the second argument of issubdtype from `float` to `np.floating` is deprecated. In future, it will be treated as `np.float64 == np.dtype(float).type`.\n",
      "  from ._conv import register_converters as _register_converters\n",
      "\n",
      "Bad key \"content -> “backend\" on line 1 in\n",
      "/Users/leodegeus/.matplotlib/matplotlibrc.\n",
      "You probably need to get an updated matplotlibrc file from\n",
      "http://github.com/matplotlib/matplotlib/blob/master/matplotlibrc.template\n",
      "or from the matplotlib source distribution\n"
     ]
    }
   ],
   "source": [
    "# organize imports\n",
    "from __future__ import print_function\n",
    "\n",
    "from sklearn.metrics import classification_report\n",
    "from sklearn.model_selection import train_test_split\n",
    "from sklearn.linear_model import LogisticRegression\n",
    "from sklearn.metrics import confusion_matrix\n",
    "import numpy as np\n",
    "import h5py\n",
    "import os\n",
    "import json\n",
    "import pickle\n",
    "import seaborn as sns\n",
    "import matplotlib.pyplot as plt\n",
    "\n",
    "# load the user configs\n",
    "with open('conf/conf.json') as f:    \n",
    "  config = json.load(f)"
   ]
  },
  {
   "cell_type": "code",
   "execution_count": 4,
   "metadata": {},
   "outputs": [],
   "source": [
    "test_size     = config[\"test_size\"]\n",
    "seed      = config[\"seed\"]\n",
    "features_path   = config[\"features_path\"]\n",
    "labels_path   = config[\"labels_path\"]\n",
    "results     = config[\"results\"]\n",
    "classifier_path = config[\"classifier_path\"]\n",
    "train_path    = config[\"train_path\"]\n",
    "num_classes   = config[\"num_classes\"]\n",
    "classifier_path = config[\"classifier_path\"]"
   ]
  },
  {
   "cell_type": "code",
   "execution_count": 4,
   "metadata": {},
   "outputs": [
    {
     "name": "stdout",
     "output_type": "stream",
     "text": [
      "[INFO] features shape: (1589, 710432)\n",
      "[INFO] labels shape: (1589,)\n",
      "[INFO] training started...\n"
     ]
    }
   ],
   "source": [
    "# import features and labels\n",
    "h5f_data  = h5py.File(features_path, 'r')\n",
    "h5f_label = h5py.File(labels_path, 'r')\n",
    "\n",
    "features_string = h5f_data['dataset_1']\n",
    "labels_string   = h5f_label['dataset_1']\n",
    "\n",
    "features = np.array(features_string)\n",
    "labels   = np.array(labels_string)\n",
    "\n",
    "h5f_data.close()\n",
    "h5f_label.close()\n",
    "\n",
    "# verify the shape of features and labels\n",
    "print (\"[INFO] features shape: {}\".format(features.shape))\n",
    "print (\"[INFO] labels shape: {}\".format(labels.shape))\n",
    "\n",
    "print (\"[INFO] training started...\")\n",
    "# split the training and testing data"
   ]
  },
  {
   "cell_type": "code",
   "execution_count": 6,
   "metadata": {},
   "outputs": [],
   "source": [
    "from sklearn.model_selection import StratifiedKFold\n",
    "kfold = StratifiedKFold(n_splits=10, shuffle=True, random_state=seed)\n",
    "cvscores = []"
   ]
  },
  {
   "cell_type": "code",
   "execution_count": null,
   "metadata": {},
   "outputs": [],
   "source": [
    "(trainData, testData, trainLabels, testLabels) = train_test_split(np.array(features),\n",
    "                                                                  np.array(labels),\n",
    "                                                                  test_size=0.1,\n",
    "                                                                  random_state=7)"
   ]
  },
  {
   "cell_type": "code",
   "execution_count": 9,
   "metadata": {},
   "outputs": [],
   "source": [
    "for train, test in kfold.split(trainData, testData):\n",
    "    model = LogisticRegression(random_state=seed)\n",
    "    model.fit(trainData[train], trainLabels[test])\n",
    "    \n",
    "    rank_1 = 0\n",
    "    rank_5 = 0\n",
    "\n",
    "    # loop over test data\n",
    "    for (label, features) in zip(testLabels, testData):\n",
    "      # predict the probability of each class label and\n",
    "      # take the top-5 class labels\n",
    "      predictions = model.predict_proba(np.atleast_2d(features))[0]\n",
    "      predictions = np.argsort(predictions)[::-1][:5]\n",
    "\n",
    "      # rank-1 prediction increment\n",
    "      if label == predictions[0]:\n",
    "        rank_1 += 1\n",
    "\n",
    "      # rank-5 prediction increment\n",
    "      if label in predictions:\n",
    "        rank_5 += 1\n",
    "\n",
    "    # convert accuracies to percentages\n",
    "    rank_1 = (rank_1 / float(len(testLabels))) * 100\n",
    "    rank_5 = (rank_5 / float(len(testLabels))) * 100\n",
    "\n",
    "    print(\"%.3f%%\" % (rank_1))\n",
    "    cvscores.append(rank_1)\n",
    "    \n",
    "    preds = model.predict(testData)\n",
    "\n",
    "    print(classification_report(testLabels, preds))\n",
    "    print (\"[INFO] confusion matrix\")\n",
    "    \n",
    "    # get the list of training lables\n",
    "    labels = sorted(list(os.listdir(train_path)))\n",
    "\n",
    "    # plot the confusion matrix\n",
    "    cm = confusion_matrix(testLabels, preds)\n",
    "    sns.heatmap(cm,\n",
    "                annot=True,\n",
    "                cmap=\"Set2\")\n",
    "    plt.savefig('myfig.png')\n",
    "\n",
    "\n",
    "print(\"%.2f%% (+/- %.2f%%)\" % (numpy.mean(cvscores), numpy.std(cvscores)))"
   ]
  },
  {
   "cell_type": "code",
   "execution_count": 14,
   "metadata": {},
   "outputs": [],
   "source": [
    "count = 1\n",
    "si = \"output/flowers_17/inceptionv3/matrix.png\"\n",
    "nameMatrix = \"/\".join(si.split(\"/\")[:-1]) + \"/matrix\" + str(count) + \".png\"\n",
    "count += 1"
   ]
  },
  {
   "cell_type": "code",
   "execution_count": 1,
   "metadata": {},
   "outputs": [
    {
     "ename": "NameError",
     "evalue": "name 'model' is not defined",
     "output_type": "error",
     "traceback": [
      "\u001b[0;31m---------------------------------------------------------------------------\u001b[0m",
      "\u001b[0;31mNameError\u001b[0m                                 Traceback (most recent call last)",
      "\u001b[0;32m<ipython-input-1-458d5f1afc81>\u001b[0m in \u001b[0;36m<module>\u001b[0;34m()\u001b[0m\n\u001b[0;32m----> 1\u001b[0;31m \u001b[0mmodel\u001b[0m\u001b[0;34m\u001b[0m\u001b[0m\n\u001b[0m",
      "\u001b[0;31mNameError\u001b[0m: name 'model' is not defined"
     ]
    }
   ],
   "source": [
    "model="
   ]
  },
  {
   "cell_type": "markdown",
   "metadata": {},
   "source": [
    "resul2[0]"
   ]
  }
 ],
 "metadata": {
  "kernelspec": {
   "display_name": "Python 3",
   "language": "python",
   "name": "python3"
  },
  "language_info": {
   "codemirror_mode": {
    "name": "ipython",
    "version": 3
   },
   "file_extension": ".py",
   "mimetype": "text/x-python",
   "name": "python",
   "nbconvert_exporter": "python",
   "pygments_lexer": "ipython3",
   "version": "3.6.4"
  }
 },
 "nbformat": 4,
 "nbformat_minor": 2
}
